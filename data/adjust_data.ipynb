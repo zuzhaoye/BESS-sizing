{
 "cells": [
  {
   "cell_type": "code",
   "execution_count": 1,
   "id": "7b2ab387-fcc7-4c4e-9db1-d21f4b3cc7a5",
   "metadata": {
    "tags": []
   },
   "outputs": [],
   "source": [
    "import pandas as pd"
   ]
  },
  {
   "cell_type": "code",
   "execution_count": 3,
   "id": "4ce631a9-62bf-4571-9921-f2de504e8e28",
   "metadata": {
    "tags": []
   },
   "outputs": [],
   "source": [
    "df = pd.read_excel(\"load.xlsx\")"
   ]
  },
  {
   "cell_type": "code",
   "execution_count": 4,
   "id": "6dfde841-b1e7-4c08-bd52-ba36f9602fd5",
   "metadata": {
    "tags": []
   },
   "outputs": [
    {
     "data": {
      "text/plain": [
       "Index([  0,   1,   2,   3,   4,   5,   6,   7,   8,   9,\n",
       "       ...\n",
       "       350, 351, 352, 353, 354, 355, 356, 357, 358, 359],\n",
       "      dtype='int64', length=360)"
      ]
     },
     "execution_count": 4,
     "metadata": {},
     "output_type": "execute_result"
    }
   ],
   "source": [
    "df.columns"
   ]
  },
  {
   "cell_type": "code",
   "execution_count": 7,
   "id": "c54f339c-a77d-4bcd-b372-da2c89598ea5",
   "metadata": {
    "tags": []
   },
   "outputs": [],
   "source": [
    "data = []\n",
    "for col in df.columns:\n",
    "    data_day = df[col].to_list()\n",
    "    data.extend(data_day)"
   ]
  },
  {
   "cell_type": "code",
   "execution_count": 13,
   "id": "d7601f55-3780-41c0-8e8b-66956574dd1c",
   "metadata": {
    "tags": []
   },
   "outputs": [],
   "source": [
    "times = pd.date_range(start=\"2022-01-01\", periods=len(data), freq=\"h\")"
   ]
  },
  {
   "cell_type": "code",
   "execution_count": 19,
   "id": "99ac2d51-ac4b-475f-9f9c-a3cf64b2b777",
   "metadata": {
    "tags": []
   },
   "outputs": [
    {
     "data": {
      "text/html": [
       "<div>\n",
       "<style scoped>\n",
       "    .dataframe tbody tr th:only-of-type {\n",
       "        vertical-align: middle;\n",
       "    }\n",
       "\n",
       "    .dataframe tbody tr th {\n",
       "        vertical-align: top;\n",
       "    }\n",
       "\n",
       "    .dataframe thead th {\n",
       "        text-align: right;\n",
       "    }\n",
       "</style>\n",
       "<table border=\"1\" class=\"dataframe\">\n",
       "  <thead>\n",
       "    <tr style=\"text-align: right;\">\n",
       "      <th></th>\n",
       "      <th>Time</th>\n",
       "      <th>Power(kW)</th>\n",
       "    </tr>\n",
       "  </thead>\n",
       "  <tbody>\n",
       "    <tr>\n",
       "      <th>0</th>\n",
       "      <td>2022-01-01 00:00:00</td>\n",
       "      <td>12.81</td>\n",
       "    </tr>\n",
       "    <tr>\n",
       "      <th>1</th>\n",
       "      <td>2022-01-01 01:00:00</td>\n",
       "      <td>10.10</td>\n",
       "    </tr>\n",
       "    <tr>\n",
       "      <th>2</th>\n",
       "      <td>2022-01-01 02:00:00</td>\n",
       "      <td>12.10</td>\n",
       "    </tr>\n",
       "    <tr>\n",
       "      <th>3</th>\n",
       "      <td>2022-01-01 03:00:00</td>\n",
       "      <td>12.64</td>\n",
       "    </tr>\n",
       "    <tr>\n",
       "      <th>4</th>\n",
       "      <td>2022-01-01 04:00:00</td>\n",
       "      <td>15.95</td>\n",
       "    </tr>\n",
       "    <tr>\n",
       "      <th>...</th>\n",
       "      <td>...</td>\n",
       "      <td>...</td>\n",
       "    </tr>\n",
       "    <tr>\n",
       "      <th>8635</th>\n",
       "      <td>2022-12-26 19:00:00</td>\n",
       "      <td>25.97</td>\n",
       "    </tr>\n",
       "    <tr>\n",
       "      <th>8636</th>\n",
       "      <td>2022-12-26 20:00:00</td>\n",
       "      <td>16.00</td>\n",
       "    </tr>\n",
       "    <tr>\n",
       "      <th>8637</th>\n",
       "      <td>2022-12-26 21:00:00</td>\n",
       "      <td>13.85</td>\n",
       "    </tr>\n",
       "    <tr>\n",
       "      <th>8638</th>\n",
       "      <td>2022-12-26 22:00:00</td>\n",
       "      <td>14.51</td>\n",
       "    </tr>\n",
       "    <tr>\n",
       "      <th>8639</th>\n",
       "      <td>2022-12-26 23:00:00</td>\n",
       "      <td>11.43</td>\n",
       "    </tr>\n",
       "  </tbody>\n",
       "</table>\n",
       "<p>8640 rows × 2 columns</p>\n",
       "</div>"
      ],
      "text/plain": [
       "                    Time  Power(kW)\n",
       "0    2022-01-01 00:00:00      12.81\n",
       "1    2022-01-01 01:00:00      10.10\n",
       "2    2022-01-01 02:00:00      12.10\n",
       "3    2022-01-01 03:00:00      12.64\n",
       "4    2022-01-01 04:00:00      15.95\n",
       "...                  ...        ...\n",
       "8635 2022-12-26 19:00:00      25.97\n",
       "8636 2022-12-26 20:00:00      16.00\n",
       "8637 2022-12-26 21:00:00      13.85\n",
       "8638 2022-12-26 22:00:00      14.51\n",
       "8639 2022-12-26 23:00:00      11.43\n",
       "\n",
       "[8640 rows x 2 columns]"
      ]
     },
     "execution_count": 19,
     "metadata": {},
     "output_type": "execute_result"
    }
   ],
   "source": [
    "df_new = pd.DataFrame({\"Time\": times, \"Power(kW)\": data})\n",
    "df_new"
   ]
  },
  {
   "cell_type": "code",
   "execution_count": 20,
   "id": "8b3605e1-0227-433a-a9b9-6a39c6425388",
   "metadata": {
    "tags": []
   },
   "outputs": [],
   "source": [
    "df_new.to_csv(\"load_adj.csv\")"
   ]
  },
  {
   "cell_type": "code",
   "execution_count": null,
   "id": "b302dc32-ac5a-4763-ba4e-985631006a7b",
   "metadata": {},
   "outputs": [],
   "source": []
  }
 ],
 "metadata": {
  "kernelspec": {
   "display_name": "Python 3 (ipykernel)",
   "language": "python",
   "name": "python3"
  },
  "language_info": {
   "codemirror_mode": {
    "name": "ipython",
    "version": 3
   },
   "file_extension": ".py",
   "mimetype": "text/x-python",
   "name": "python",
   "nbconvert_exporter": "python",
   "pygments_lexer": "ipython3",
   "version": "3.11.5"
  }
 },
 "nbformat": 4,
 "nbformat_minor": 5
}
