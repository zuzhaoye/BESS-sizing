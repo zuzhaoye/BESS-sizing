{
 "cells": [
  {
   "cell_type": "code",
   "execution_count": 1,
   "id": "7e411c34",
   "metadata": {},
   "outputs": [],
   "source": [
    "from matplotlib import pyplot as plt\n",
    "import numpy as np\n",
    "import pandas as pd\n",
    "import os\n",
    "import pickle\n",
    "def save_obj(obj, name):\n",
    "    with open(name + '.pkl', 'wb') as f:\n",
    "        pickle.dump(obj, f, pickle.HIGHEST_PROTOCOL)\n",
    "\n",
    "def load_obj(name):\n",
    "    with open(name + '.pkl', 'rb') as f:\n",
    "        return pickle.load(f)\n",
    "    \n",
    "from settings import *\n",
    "from utils import get_bill, eval_annual\n",
    "from battery import Battery"
   ]
  },
  {
   "cell_type": "markdown",
   "id": "98d400da",
   "metadata": {},
   "source": [
    "#### 1. Read building net load data"
   ]
  },
  {
   "cell_type": "code",
   "execution_count": 2,
   "id": "cosmetic-allen",
   "metadata": {},
   "outputs": [],
   "source": [
    "PATH_DATA = 'data/load.xlsx'\n",
    "load_org = pd.read_excel(PATH_DATA) # Original load\n",
    "# Convert load data to a structure (month, hour)\n",
    "load_org = np.array(load_org).reshape((720, 12), order='F') # 720 hours per month for 12 months\n",
    "load_org = load_org.transpose()"
   ]
  },
  {
   "cell_type": "markdown",
   "id": "deafcf2e",
   "metadata": {},
   "source": [
    "#### 2. Select dispatch method, degradation model, and pricing plan"
   ]
  },
  {
   "cell_type": "code",
   "execution_count": 3,
   "id": "f294d5cc",
   "metadata": {},
   "outputs": [],
   "source": [
    "dispatch_method = \"constant_peak\"\n",
    "degModel = \"Xu\"\n",
    "pricing_plan = \"flat\""
   ]
  },
  {
   "cell_type": "markdown",
   "id": "6272e4d7",
   "metadata": {},
   "source": [
    "#### 3. Select initial round-trip efficiency, SoC, and desired range of energy and power capacities"
   ]
  },
  {
   "cell_type": "code",
   "execution_count": 4,
   "id": "ffaa43fa",
   "metadata": {},
   "outputs": [],
   "source": [
    "eff = 0.95\n",
    "soc_ini = 0.5\n",
    "    \n",
    "dE = 10\n",
    "dP = 10\n",
    "Emaxs = np.arange(dE, 100, dE)\n",
    "Pmaxs = np.arange(dP, 100, dP)"
   ]
  },
  {
   "cell_type": "markdown",
   "id": "7b2f14cb",
   "metadata": {},
   "source": [
    "#### 4. For each combination of Emax and Pmax, perform lifetime evaluation"
   ]
  },
  {
   "cell_type": "code",
   "execution_count": 5,
   "id": "f6e074eb",
   "metadata": {
    "scrolled": true
   },
   "outputs": [
    {
     "name": "stdout",
     "output_type": "stream",
     "text": [
      "10 10 24897.77068565046 New case added\n",
      "10 20 22897.77068565046 New case added\n",
      "10 30 20897.77068565046 New case added\n",
      "10 40 18897.770685650463 New case added\n",
      "10 50 16897.770685650463 New case added\n",
      "10 60 14897.770685650465 New case added\n",
      "10 70 12897.770685650465 New case added\n",
      "10 80 10897.770685650465 New case added\n",
      "10 90 8897.770685650463 New case added\n",
      "20 10 39462.48649062998 New case added\n",
      "20 20 46138.0982594993 New case added\n",
      "20 30 44138.0982594993 New case added\n",
      "20 40 42138.0982594993 New case added\n",
      "20 50 40138.0982594993 New case added\n",
      "20 60 38138.0982594993 New case added\n",
      "20 70 36138.0982594993 New case added\n",
      "20 80 34138.09825949929 New case added\n",
      "20 90 32138.098259499293 New case added\n",
      "30 10 42281.32104552812 New case added\n",
      "30 20 55105.29290557544 New case added\n",
      "30 30 53212.90719585401 New case added\n",
      "30 40 51212.90719585401 New case added\n",
      "30 50 49212.90719585401 New case added\n",
      "30 60 47212.90719585401 New case added\n",
      "30 70 45212.90719585401 New case added\n",
      "30 80 43212.90719585402 New case added\n",
      "30 90 41212.90719585402 New case added\n",
      "40 10 41791.54348775755 New case added\n",
      "40 20 55364.4039720712 New case added\n",
      "40 30 53472.040818358946 New case added\n",
      "40 40 51472.040818358946 New case added\n",
      "40 50 49472.040818358946 New case added\n",
      "40 60 47472.040818358946 New case added\n",
      "40 70 45472.040818358946 New case added\n",
      "40 80 43472.040818358946 New case added\n",
      "40 90 41472.040818358946 New case added\n",
      "50 10 41291.10602288455 New case added\n",
      "50 20 54863.96634429956 New case added\n",
      "50 30 52971.60318968616 New case added\n",
      "50 40 50971.60318968616 New case added\n",
      "50 50 48971.603189686146 New case added\n",
      "50 60 46971.603189686146 New case added\n",
      "50 70 44971.603189686146 New case added\n",
      "50 80 42971.60318968616 New case added\n",
      "50 90 40971.60318968616 New case added\n",
      "60 10 40790.66864637693 New case added\n",
      "60 20 54363.52892389992 New case added\n",
      "60 30 52471.16576899499 New case added\n",
      "60 40 50471.16576899499 New case added\n",
      "60 50 48471.16576899499 New case added\n",
      "60 60 46471.16576899499 New case added\n",
      "60 70 44471.16576899499 New case added\n",
      "60 80 42471.16576899499 New case added\n",
      "60 90 40471.165768995 New case added\n",
      "70 10 40290.231295092424 New case added\n",
      "70 20 53863.091555144994 New case added\n",
      "70 30 51970.728400119144 New case added\n",
      "70 40 49970.728400119144 New case added\n",
      "70 50 47970.728400119144 New case added\n",
      "70 60 45970.728400119144 New case added\n",
      "70 70 43970.728400119144 New case added\n",
      "70 80 41970.728400119144 New case added\n",
      "70 90 39970.728400119144 New case added\n",
      "80 10 39789.79395320866 New case added\n",
      "80 20 53362.65420499797 New case added\n",
      "80 30 51470.29104991417 New case added\n",
      "80 40 49470.29104991417 New case added\n",
      "80 50 47470.29104991417 New case added\n",
      "80 60 45470.29104991417 New case added\n",
      "80 70 43470.29104991417 New case added\n",
      "80 80 41470.29104991417 New case added\n",
      "80 90 39470.29104991418 New case added\n",
      "90 10 39289.35661541508 New case added\n",
      "90 20 52862.216862846966 New case added\n",
      "90 30 50969.85370773255 New case added\n",
      "90 40 48969.85370773255 New case added\n",
      "90 50 46969.85370773255 New case added\n",
      "90 60 44969.85370773255 New case added\n",
      "90 70 42969.85370773255 New case added\n",
      "90 80 40969.85370773255 New case added\n",
      "90 90 38969.85370773255 New case added\n"
     ]
    }
   ],
   "source": [
    "NPVs = np.zeros((len(Emaxs), len(Pmaxs)))\n",
    "\n",
    "for i in range(len(Emaxs)):\n",
    "    Emax = Emaxs[i]\n",
    "    Emin = 0\n",
    "    for j in range(len(Pmaxs)):\n",
    "        Pmax = Pmaxs[j]\n",
    "        Pmin = -Pmax\n",
    "            \n",
    "        NPV = -(cost_capacity*Emax + cost_power_equip*Pmax + cost_construction*Pmax)\n",
    "        battery = Battery(Emax=Emax, Emin=Emin, Pmax=Pmax, Pmin=Pmin,\\\n",
    "                          eff=eff, soc_ini=soc_ini, degModel=degModel)\n",
    "        \n",
    "        # Lifetime evaluation\n",
    "        for n in range(Nyear):\n",
    "            # Annual evaluation\n",
    "            saving, load_new, Es, cs, ds = eval_annual(load_org, battery,\\\n",
    "                                                       method=dispatch_method,\\\n",
    "                                                       pricing_plan=pricing_plan)\n",
    "            NPV += saving/(1+ir)**(n+1)\n",
    "            Es = Es.ravel(order='C')\n",
    "            cs = cs.ravel(order='C')\n",
    "            ds = ds.ravel(order='C')\n",
    "            xs = cs - ds\n",
    "            battery.degradate(degEff=degEff, Es=Es, xs=xs)\n",
    "            \n",
    "        NPVs[i,j] = NPV\n",
    "        print(Emax, Pmax, NPV, 'New case added')\n",
    "        \n",
    "res = {'Emaxs': Emaxs, 'Pmaxs': Pmaxs, 'NPVs': NPVs}\n",
    "save_obj(res, f'results/{dispatch_method}-{degModel}-{pricing_plan}')"
   ]
  },
  {
   "cell_type": "markdown",
   "id": "c6a01b7c",
   "metadata": {},
   "source": [
    "#### 5. Visualize"
   ]
  },
  {
   "cell_type": "code",
   "execution_count": 6,
   "id": "67235c99",
   "metadata": {},
   "outputs": [
    {
     "data": {
      "image/png": "[encoded data removed]",
      "text/plain": [
       "<Figure size 720x432 with 2 Axes>"
      ]
     },
     "metadata": {
      "needs_background": "light"
     },
     "output_type": "display_data"
    }
   ],
   "source": [
    "fig = plt.figure(figsize = (10, 6))\n",
    "ax = fig.add_subplot(111)\n",
    "\n",
    "X, Y = np.meshgrid(Emaxs, Pmaxs)\n",
    "X = X.transpose()\n",
    "Y = Y.transpose()\n",
    "levels = np.linspace(NPVs.min(),NPVs.max(),31)\n",
    "plot = ax.contourf(X, Y, NPVs, levels = levels)\n",
    "fig.colorbar(plot)\n",
    "ax.set_title('Net Present Value ($)')\n",
    "ax.set_ylabel('Rating of Power Equipment (kW)', fontsize = 13)\n",
    "ax.set_xlabel('Initial Battery Energy Capacity (kWh)', fontsize = 13)\n",
    "fig.savefig(f\"imgs/{dispatch_method}-{degModel}-{pricing_plan}.png\")"
   ]
  },
  {
   "cell_type": "code",
   "execution_count": null,
   "id": "c6e271c5",
   "metadata": {},
   "outputs": [],
   "source": []
  }
 ],
 "metadata": {
  "kernelspec": {
   "display_name": "Python 3",
   "language": "python",
   "name": "python3"
  },
  "language_info": {
   "codemirror_mode": {
    "name": "ipython",
    "version": 3
   },
   "file_extension": ".py",
   "mimetype": "text/x-python",
   "name": "python",
   "nbconvert_exporter": "python",
   "pygments_lexer": "ipython3",
   "version": "3.8.8"
  }
 },
 "nbformat": 4,
 "nbformat_minor": 5
}
